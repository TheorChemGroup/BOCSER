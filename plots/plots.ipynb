{
 "cells": [
  {
   "cell_type": "code",
   "execution_count": 1,
   "id": "07ecc890-4189-421f-b696-28cf93080170",
   "metadata": {},
   "outputs": [],
   "source": [
    "import os\n",
    "import json\n",
    "from pyxyz import Confpool, KC2H, MolProxy\n",
    "import numpy as np\n",
    "\n",
    "import seaborn as sns\n",
    "import matplotlib.pyplot as plt\n",
    "import matplotlib.lines as mlines\n",
    "from mpl_toolkits.axes_grid1.inset_locator import inset_axes\n",
    "\n",
    "import typing\n",
    "from tqdm import tqdm"
   ]
  },
  {
   "cell_type": "code",
   "execution_count": 2,
   "id": "a7a8c170-d7b8-4516-9a62-6e649d6261e9",
   "metadata": {},
   "outputs": [],
   "source": [
    "def chebyshev_dist(\n",
    "    mol_1 : MolProxy,\n",
    "    mol_2 : MolProxy,\n",
    "    simple_reorder : typing.List[int]\n",
    ") -> float:\n",
    "    \n",
    "    new_mol_1 = mol_1.aligned_with(mol_2)\n",
    "    \n",
    "    nonhydrogen_atoms = np.array(simple_reorder)\n",
    "    difference_matr = (new_mol_1 - mol_2.xyz)[nonhydrogen_atoms]\n",
    "    row_norms = np.linalg.norm(difference_matr, axis=1)\n",
    "    \n",
    "    return float(np.max(row_norms))"
   ]
  },
  {
   "cell_type": "code",
   "execution_count": 3,
   "id": "8ca1edce-886d-431b-8957-2bbdc18303f2",
   "metadata": {},
   "outputs": [],
   "source": [
    "crest_lowest_en = {}\n",
    "\n",
    "for filename in os.listdir('crest_res/'):\n",
    "    idx = int(filename.split('_')[1])\n",
    "    \n",
    "    crest_ens = Confpool()\n",
    "    crest_ens.include_from_file(f'crest_res/mol_{idx}/crest_conformers_no_h.xyz')\n",
    "    crest_ens[\"Energy\"] = lambda m: float(m.descr.strip())\n",
    "\n",
    "    crest_lowest_en[idx] = min(crest_ens, key=lambda x: x['Energy'])['Energy']"
   ]
  },
  {
   "cell_type": "code",
   "execution_count": 4,
   "id": "577f012c-7c00-437c-b4f9-a0e1f5bb9bed",
   "metadata": {},
   "outputs": [
    {
     "name": "stdout",
     "output_type": "stream",
     "text": [
      "Mol: 0\n"
     ]
    },
    {
     "name": "stderr",
     "output_type": "stream",
     "text": [
      "100%|██████████████████████████████████████████████████████████████████████████████████████████████████████████| 26/26 [00:00<00:00, 440.80it/s]\n",
      "100%|█████████████████████████████████████████████████████████████████████████████████████████████████████████| 26/26 [00:00<00:00, 2028.31it/s]\n"
     ]
    },
    {
     "name": "stdout",
     "output_type": "stream",
     "text": [
      "Mol: 1\n"
     ]
    },
    {
     "name": "stderr",
     "output_type": "stream",
     "text": [
      "100%|█████████████████████████████████████████████████████████████████████████████████████████████████████████| 12/12 [00:00<00:00, 2791.55it/s]\n",
      "100%|████████████████████████████████████████████████████████████████████████████████████████████████████████| 12/12 [00:00<00:00, 16299.11it/s]"
     ]
    },
    {
     "name": "stdout",
     "output_type": "stream",
     "text": [
      "Mol: 16\n"
     ]
    },
    {
     "name": "stderr",
     "output_type": "stream",
     "text": [
      "\n",
      "100%|█████████████████████████████████████████████████████████████████████████████████████████████████████████████| 2/2 [00:00<00:00, 33.61it/s]\n",
      "100%|████████████████████████████████████████████████████████████████████████████████████████████████████████████| 2/2 [00:00<00:00, 194.73it/s]\n"
     ]
    },
    {
     "name": "stdout",
     "output_type": "stream",
     "text": [
      "Mol: 17\n"
     ]
    },
    {
     "name": "stderr",
     "output_type": "stream",
     "text": [
      "100%|█████████████████████████████████████████████████████████████████████████████████████████████████████████████| 2/2 [00:00<00:00, 44.31it/s]\n",
      "100%|█████████████████████████████████████████████████████████████████████████████████████████████████████████████| 2/2 [00:00<00:00, 65.46it/s]\n"
     ]
    },
    {
     "name": "stdout",
     "output_type": "stream",
     "text": [
      "Mol: 18\n"
     ]
    },
    {
     "name": "stderr",
     "output_type": "stream",
     "text": [
      "100%|███████████████████████████████████████████████████████████████████████████████████████████████████████████| 38/38 [00:02<00:00, 17.38it/s]\n",
      "100%|███████████████████████████████████████████████████████████████████████████████████████████████████████████| 38/38 [00:01<00:00, 24.27it/s]\n"
     ]
    },
    {
     "name": "stdout",
     "output_type": "stream",
     "text": [
      "Mol: 2\n"
     ]
    },
    {
     "name": "stderr",
     "output_type": "stream",
     "text": [
      "100%|████████████████████████████████████████████████████████████████████████████████████████████████████████████| 8/8 [00:00<00:00, 658.96it/s]\n",
      "100%|███████████████████████████████████████████████████████████████████████████████████████████████████████████| 8/8 [00:00<00:00, 2647.08it/s]\n"
     ]
    },
    {
     "name": "stdout",
     "output_type": "stream",
     "text": [
      "Mol: 21\n"
     ]
    },
    {
     "name": "stderr",
     "output_type": "stream",
     "text": [
      "100%|█████████████████████████████████████████████████████████████████████████████████████████████████████████████| 8/8 [00:00<00:00, 90.04it/s]\n",
      "100%|████████████████████████████████████████████████████████████████████████████████████████████████████████████| 8/8 [00:00<00:00, 731.40it/s]\n"
     ]
    },
    {
     "name": "stdout",
     "output_type": "stream",
     "text": [
      "Mol: 23\n"
     ]
    },
    {
     "name": "stderr",
     "output_type": "stream",
     "text": [
      "100%|█████████████████████████████████████████████████████████████████████████████████████████████████████████| 62/62 [00:00<00:00, 1278.73it/s]\n",
      "100%|█████████████████████████████████████████████████████████████████████████████████████████████████████████| 62/62 [00:00<00:00, 3276.22it/s]\n"
     ]
    },
    {
     "name": "stdout",
     "output_type": "stream",
     "text": [
      "Mol: 24\n"
     ]
    },
    {
     "name": "stderr",
     "output_type": "stream",
     "text": [
      "100%|█████████████████████████████████████████████████████████████████████████████████████████████████████████████| 2/2 [00:00<00:00, 30.33it/s]\n",
      "100%|█████████████████████████████████████████████████████████████████████████████████████████████████████████████| 2/2 [00:00<00:00, 85.03it/s]\n"
     ]
    },
    {
     "name": "stdout",
     "output_type": "stream",
     "text": [
      "Mol: 25\n"
     ]
    },
    {
     "name": "stderr",
     "output_type": "stream",
     "text": [
      "100%|███████████████████████████████████████████████████████████████████████████████████████████████████████████| 16/16 [00:03<00:00,  5.24it/s]\n",
      "100%|███████████████████████████████████████████████████████████████████████████████████████████████████████████| 16/16 [00:01<00:00,  9.76it/s]\n"
     ]
    },
    {
     "name": "stdout",
     "output_type": "stream",
     "text": [
      "Mol: 26\n"
     ]
    },
    {
     "name": "stderr",
     "output_type": "stream",
     "text": [
      "100%|█████████████████████████████████████████████████████████████████████████████████████████████████████████████| 1/1 [00:00<00:00, 34.09it/s]\n",
      "100%|████████████████████████████████████████████████████████████████████████████████████████████████████████████| 1/1 [00:00<00:00, 234.16it/s]\n"
     ]
    },
    {
     "name": "stdout",
     "output_type": "stream",
     "text": [
      "Mol: 28\n"
     ]
    },
    {
     "name": "stderr",
     "output_type": "stream",
     "text": [
      "100%|█████████████████████████████████████████████████████████████████████████████████████████████████████████| 65/65 [00:00<00:00, 1209.86it/s]\n",
      "100%|█████████████████████████████████████████████████████████████████████████████████████████████████████████| 65/65 [00:00<00:00, 5639.60it/s]\n"
     ]
    },
    {
     "name": "stdout",
     "output_type": "stream",
     "text": [
      "Mol: 30\n"
     ]
    },
    {
     "name": "stderr",
     "output_type": "stream",
     "text": [
      "100%|███████████████████████████████████████████████████████████████████████████████████████████████████████████| 17/17 [00:00<00:00, 95.17it/s]\n",
      "100%|██████████████████████████████████████████████████████████████████████████████████████████████████████████| 17/17 [00:00<00:00, 460.87it/s]\n"
     ]
    },
    {
     "name": "stdout",
     "output_type": "stream",
     "text": [
      "Mol: 31\n"
     ]
    },
    {
     "name": "stderr",
     "output_type": "stream",
     "text": [
      "100%|███████████████████████████████████████████████████████████████████████████████████████████████████████████| 43/43 [00:00<00:00, 47.88it/s]\n",
      "100%|██████████████████████████████████████████████████████████████████████████████████████████████████████████| 43/43 [00:00<00:00, 123.24it/s]\n"
     ]
    },
    {
     "name": "stdout",
     "output_type": "stream",
     "text": [
      "Mol: 32\n"
     ]
    },
    {
     "name": "stderr",
     "output_type": "stream",
     "text": [
      "100%|██████████████████████████████████████████████████████████████████████████████████████████████████████████| 61/61 [00:00<00:00, 257.69it/s]\n",
      "100%|██████████████████████████████████████████████████████████████████████████████████████████████████████████| 61/61 [00:00<00:00, 971.48it/s]\n"
     ]
    },
    {
     "name": "stdout",
     "output_type": "stream",
     "text": [
      "Mol: 34\n"
     ]
    },
    {
     "name": "stderr",
     "output_type": "stream",
     "text": [
      "100%|████████████████████████████████████████████████████████████████████████████████████████████████████████████| 3/3 [00:00<00:00, 610.79it/s]\n",
      "100%|███████████████████████████████████████████████████████████████████████████████████████████████████████████| 3/3 [00:00<00:00, 2499.09it/s]\n"
     ]
    },
    {
     "name": "stdout",
     "output_type": "stream",
     "text": [
      "Mol: 35\n"
     ]
    },
    {
     "name": "stderr",
     "output_type": "stream",
     "text": [
      "100%|██████████████████████████████████████████████████████████████████████████████████████████████████████████| 26/26 [00:00<00:00, 133.71it/s]\n",
      "100%|██████████████████████████████████████████████████████████████████████████████████████████████████████████| 26/26 [00:00<00:00, 925.45it/s]\n"
     ]
    },
    {
     "name": "stdout",
     "output_type": "stream",
     "text": [
      "Mol: 38\n"
     ]
    },
    {
     "name": "stderr",
     "output_type": "stream",
     "text": [
      "100%|██████████████████████████████████████████████████████████████████████████████████████████████████████████| 33/33 [00:00<00:00, 590.47it/s]\n",
      "100%|█████████████████████████████████████████████████████████████████████████████████████████████████████████| 33/33 [00:00<00:00, 4397.80it/s]\n"
     ]
    },
    {
     "name": "stdout",
     "output_type": "stream",
     "text": [
      "Mol: 40\n"
     ]
    },
    {
     "name": "stderr",
     "output_type": "stream",
     "text": [
      "100%|███████████████████████████████████████████████████████████████████████████████████████████████████████████| 6/6 [00:00<00:00, 1036.01it/s]\n",
      "100%|██████████████████████████████████████████████████████████████████████████████████████████████████████████| 6/6 [00:00<00:00, 15307.68it/s]\n"
     ]
    },
    {
     "name": "stdout",
     "output_type": "stream",
     "text": [
      "Mol: 42\n"
     ]
    },
    {
     "name": "stderr",
     "output_type": "stream",
     "text": [
      "100%|███████████████████████████████████████████████████████████████████████████████████████████████████████████| 16/16 [00:00<00:00, 36.03it/s]\n",
      "100%|██████████████████████████████████████████████████████████████████████████████████████████████████████████| 16/16 [00:00<00:00, 195.06it/s]\n"
     ]
    },
    {
     "name": "stdout",
     "output_type": "stream",
     "text": [
      "Mol: 43\n"
     ]
    },
    {
     "name": "stderr",
     "output_type": "stream",
     "text": [
      "100%|███████████████████████████████████████████████████████████████████████████████████████████████████████████| 9/9 [00:00<00:00, 2931.71it/s]\n",
      "100%|██████████████████████████████████████████████████████████████████████████████████████████████████████████| 9/9 [00:00<00:00, 12545.28it/s]\n"
     ]
    },
    {
     "name": "stdout",
     "output_type": "stream",
     "text": [
      "Mol: 45\n"
     ]
    },
    {
     "name": "stderr",
     "output_type": "stream",
     "text": [
      "100%|█████████████████████████████████████████████████████████████████████████████████████████████████████████| 19/19 [00:00<00:00, 1408.65it/s]\n",
      "100%|████████████████████████████████████████████████████████████████████████████████████████████████████████| 19/19 [00:00<00:00, 11183.24it/s]\n"
     ]
    },
    {
     "name": "stdout",
     "output_type": "stream",
     "text": [
      "Mol: 47\n"
     ]
    },
    {
     "name": "stderr",
     "output_type": "stream",
     "text": [
      "100%|██████████████████████████████████████████████████████████████████████████████████████████████████████████| 17/17 [00:00<00:00, 784.75it/s]\n",
      "100%|████████████████████████████████████████████████████████████████████████████████████████████████████████| 17/17 [00:00<00:00, 12712.28it/s]\n"
     ]
    },
    {
     "name": "stdout",
     "output_type": "stream",
     "text": [
      "Mol: 48\n"
     ]
    },
    {
     "name": "stderr",
     "output_type": "stream",
     "text": [
      "100%|██████████████████████████████████████████████████████████████████████████████████████████████████████████| 27/27 [00:00<00:00, 585.35it/s]\n",
      "100%|█████████████████████████████████████████████████████████████████████████████████████████████████████████| 27/27 [00:00<00:00, 6262.58it/s]\n"
     ]
    },
    {
     "name": "stdout",
     "output_type": "stream",
     "text": [
      "Mol: 49\n"
     ]
    },
    {
     "name": "stderr",
     "output_type": "stream",
     "text": [
      "100%|█████████████████████████████████████████████████████████████████████████████████████████████████████████████| 2/2 [00:00<00:00, 94.53it/s]\n",
      "100%|████████████████████████████████████████████████████████████████████████████████████████████████████████████| 2/2 [00:00<00:00, 254.12it/s]\n"
     ]
    },
    {
     "name": "stdout",
     "output_type": "stream",
     "text": [
      "Mol: 50\n"
     ]
    },
    {
     "name": "stderr",
     "output_type": "stream",
     "text": [
      "100%|██████████████████████████████████████████████████████████████████████████████████████████████████████████| 31/31 [00:00<00:00, 180.09it/s]\n",
      "100%|██████████████████████████████████████████████████████████████████████████████████████████████████████████| 31/31 [00:00<00:00, 465.48it/s]\n"
     ]
    },
    {
     "name": "stdout",
     "output_type": "stream",
     "text": [
      "Mol: 51\n"
     ]
    },
    {
     "name": "stderr",
     "output_type": "stream",
     "text": [
      "100%|█████████████████████████████████████████████████████████████████████████████████████████████████████████| 15/15 [00:00<00:00, 1541.99it/s]\n",
      "100%|█████████████████████████████████████████████████████████████████████████████████████████████████████████| 15/15 [00:00<00:00, 9469.38it/s]\n"
     ]
    },
    {
     "name": "stdout",
     "output_type": "stream",
     "text": [
      "Mol: 55\n"
     ]
    },
    {
     "name": "stderr",
     "output_type": "stream",
     "text": [
      "100%|███████████████████████████████████████████████████████████████████████████████████████████████████████████| 14/14 [00:00<00:00, 59.70it/s]\n",
      "100%|██████████████████████████████████████████████████████████████████████████████████████████████████████████| 14/14 [00:00<00:00, 198.54it/s]\n"
     ]
    },
    {
     "name": "stdout",
     "output_type": "stream",
     "text": [
      "Mol: 56\n"
     ]
    },
    {
     "name": "stderr",
     "output_type": "stream",
     "text": [
      "100%|█████████████████████████████████████████████████████████████████████████████████████████████████████████████| 2/2 [00:00<00:00, 51.54it/s]\n",
      "100%|████████████████████████████████████████████████████████████████████████████████████████████████████████████| 2/2 [00:00<00:00, 231.62it/s]\n"
     ]
    },
    {
     "name": "stdout",
     "output_type": "stream",
     "text": [
      "Mol: 57\n"
     ]
    },
    {
     "name": "stderr",
     "output_type": "stream",
     "text": [
      "100%|████████████████████████████████████████████████████████████████████████████████████████████████████████████| 7/7 [00:00<00:00, 174.73it/s]\n",
      "100%|████████████████████████████████████████████████████████████████████████████████████████████████████████████| 7/7 [00:00<00:00, 988.56it/s]\n"
     ]
    },
    {
     "name": "stdout",
     "output_type": "stream",
     "text": [
      "Mol: 58\n"
     ]
    },
    {
     "name": "stderr",
     "output_type": "stream",
     "text": [
      "100%|███████████████████████████████████████████████████████████████████████████████████████████████████████████| 11/11 [00:00<00:00, 37.83it/s]\n",
      "100%|██████████████████████████████████████████████████████████████████████████████████████████████████████████| 11/11 [00:00<00:00, 170.34it/s]\n"
     ]
    },
    {
     "name": "stdout",
     "output_type": "stream",
     "text": [
      "Mol: 59\n"
     ]
    },
    {
     "name": "stderr",
     "output_type": "stream",
     "text": [
      "100%|███████████████████████████████████████████████████████████████████████████████████████████████████████████| 30/30 [00:01<00:00, 20.61it/s]\n",
      "100%|███████████████████████████████████████████████████████████████████████████████████████████████████████████| 30/30 [00:01<00:00, 27.40it/s]\n"
     ]
    },
    {
     "name": "stdout",
     "output_type": "stream",
     "text": [
      "Mol: 6\n"
     ]
    },
    {
     "name": "stderr",
     "output_type": "stream",
     "text": [
      "100%|███████████████████████████████████████████████████████████████████████████████████████████████████████████| 49/49 [00:01<00:00, 41.16it/s]\n",
      "100%|██████████████████████████████████████████████████████████████████████████████████████████████████████████| 49/49 [00:00<00:00, 129.30it/s]\n"
     ]
    },
    {
     "name": "stdout",
     "output_type": "stream",
     "text": [
      "Mol: 60\n"
     ]
    },
    {
     "name": "stderr",
     "output_type": "stream",
     "text": [
      "100%|█████████████████████████████████████████████████████████████████████████████████████████████████████████████| 2/2 [00:00<00:00, 49.87it/s]\n",
      "100%|████████████████████████████████████████████████████████████████████████████████████████████████████████████| 2/2 [00:00<00:00, 229.90it/s]\n"
     ]
    },
    {
     "name": "stdout",
     "output_type": "stream",
     "text": [
      "Mol: 64\n"
     ]
    },
    {
     "name": "stderr",
     "output_type": "stream",
     "text": [
      "100%|███████████████████████████████████████████████████████████████████████████████████████████████████████████| 42/42 [00:00<00:00, 57.71it/s]\n",
      "100%|███████████████████████████████████████████████████████████████████████████████████████████████████████████| 42/42 [00:00<00:00, 98.31it/s]\n"
     ]
    },
    {
     "name": "stdout",
     "output_type": "stream",
     "text": [
      "Mol: 65\n"
     ]
    },
    {
     "name": "stderr",
     "output_type": "stream",
     "text": [
      "100%|███████████████████████████████████████████████████████████████████████████████████████████████████████████| 12/12 [00:01<00:00, 10.78it/s]\n",
      "100%|███████████████████████████████████████████████████████████████████████████████████████████████████████████| 12/12 [00:00<00:00, 15.96it/s]\n"
     ]
    },
    {
     "name": "stdout",
     "output_type": "stream",
     "text": [
      "Mol: 66\n"
     ]
    },
    {
     "name": "stderr",
     "output_type": "stream",
     "text": [
      "100%|█████████████████████████████████████████████████████████████████████████████████████████████████████████| 16/16 [00:00<00:00, 2369.50it/s]\n",
      "100%|████████████████████████████████████████████████████████████████████████████████████████████████████████| 16/16 [00:00<00:00, 13746.18it/s]\n"
     ]
    },
    {
     "name": "stdout",
     "output_type": "stream",
     "text": [
      "Mol: 67\n"
     ]
    },
    {
     "name": "stderr",
     "output_type": "stream",
     "text": [
      "100%|█████████████████████████████████████████████████████████████████████████████████████████████████████████████| 6/6 [00:00<00:00, 27.50it/s]\n",
      "100%|█████████████████████████████████████████████████████████████████████████████████████████████████████████████| 6/6 [00:00<00:00, 98.37it/s]\n"
     ]
    },
    {
     "name": "stdout",
     "output_type": "stream",
     "text": [
      "Mol: 69\n"
     ]
    },
    {
     "name": "stderr",
     "output_type": "stream",
     "text": [
      "100%|█████████████████████████████████████████████████████████████████████████████████████████████████████████████| 1/1 [00:00<00:00, 13.94it/s]\n",
      "100%|█████████████████████████████████████████████████████████████████████████████████████████████████████████████| 1/1 [00:00<00:00, 28.67it/s]\n"
     ]
    },
    {
     "name": "stdout",
     "output_type": "stream",
     "text": [
      "Mol: 70\n"
     ]
    },
    {
     "name": "stderr",
     "output_type": "stream",
     "text": [
      "100%|██████████████████████████████████████████████████████████████████████████████████████████████████████████| 27/27 [00:00<00:00, 637.71it/s]\n",
      "100%|█████████████████████████████████████████████████████████████████████████████████████████████████████████| 27/27 [00:00<00:00, 2743.97it/s]\n"
     ]
    },
    {
     "name": "stdout",
     "output_type": "stream",
     "text": [
      "Mol: 71\n"
     ]
    },
    {
     "name": "stderr",
     "output_type": "stream",
     "text": [
      "100%|███████████████████████████████████████████████████████████████████████████████████████████████████████████| 5/5 [00:00<00:00, 3892.99it/s]\n",
      "100%|██████████████████████████████████████████████████████████████████████████████████████████████████████████| 5/5 [00:00<00:00, 18575.31it/s]\n"
     ]
    },
    {
     "name": "stdout",
     "output_type": "stream",
     "text": [
      "Mol: 72\n"
     ]
    },
    {
     "name": "stderr",
     "output_type": "stream",
     "text": [
      "100%|█████████████████████████████████████████████████████████████████████████████████████████████████████████| 42/42 [00:00<00:00, 5312.45it/s]\n",
      "100%|████████████████████████████████████████████████████████████████████████████████████████████████████████| 42/42 [00:00<00:00, 12862.21it/s]\n"
     ]
    },
    {
     "name": "stdout",
     "output_type": "stream",
     "text": [
      "Mol: 74\n"
     ]
    },
    {
     "name": "stderr",
     "output_type": "stream",
     "text": [
      "100%|█████████████████████████████████████████████████████████████████████████████████████████████████████████████| 3/3 [00:00<00:00, 56.44it/s]\n",
      "100%|████████████████████████████████████████████████████████████████████████████████████████████████████████████| 3/3 [00:00<00:00, 156.18it/s]\n"
     ]
    },
    {
     "name": "stdout",
     "output_type": "stream",
     "text": [
      "Mol: 76\n"
     ]
    },
    {
     "name": "stderr",
     "output_type": "stream",
     "text": [
      "100%|██████████████████████████████████████████████████████████████████████████████████████████████████████████| 34/34 [00:00<00:00, 386.76it/s]\n",
      "100%|█████████████████████████████████████████████████████████████████████████████████████████████████████████| 34/34 [00:00<00:00, 1699.31it/s]\n"
     ]
    },
    {
     "name": "stdout",
     "output_type": "stream",
     "text": [
      "Mol: 77\n"
     ]
    },
    {
     "name": "stderr",
     "output_type": "stream",
     "text": [
      "100%|█████████████████████████████████████████████████████████████████████████████████████████████████████████████| 2/2 [00:00<00:00, 29.26it/s]\n",
      "100%|█████████████████████████████████████████████████████████████████████████████████████████████████████████████| 2/2 [00:00<00:00, 43.87it/s]\n"
     ]
    },
    {
     "name": "stdout",
     "output_type": "stream",
     "text": [
      "Mol: 79\n"
     ]
    },
    {
     "name": "stderr",
     "output_type": "stream",
     "text": [
      "100%|██████████████████████████████████████████████████████████████████████████████████████████████████████████| 23/23 [00:00<00:00, 655.86it/s]\n",
      "100%|█████████████████████████████████████████████████████████████████████████████████████████████████████████| 23/23 [00:00<00:00, 1000.31it/s]\n"
     ]
    },
    {
     "name": "stdout",
     "output_type": "stream",
     "text": [
      "Mol: 8\n"
     ]
    },
    {
     "name": "stderr",
     "output_type": "stream",
     "text": [
      "100%|█████████████████████████████████████████████████████████████████████████████████████████████████████████████| 6/6 [00:00<00:00, 41.39it/s]\n",
      "100%|████████████████████████████████████████████████████████████████████████████████████████████████████████████| 6/6 [00:00<00:00, 217.70it/s]\n"
     ]
    },
    {
     "name": "stdout",
     "output_type": "stream",
     "text": [
      "Mol: 80\n"
     ]
    },
    {
     "name": "stderr",
     "output_type": "stream",
     "text": [
      "100%|███████████████████████████████████████████████████████████████████████████████████████████████████████████| 47/47 [00:00<00:00, 79.29it/s]\n",
      "100%|██████████████████████████████████████████████████████████████████████████████████████████████████████████| 47/47 [00:00<00:00, 172.17it/s]\n"
     ]
    },
    {
     "name": "stdout",
     "output_type": "stream",
     "text": [
      "Mol: 81\n"
     ]
    },
    {
     "name": "stderr",
     "output_type": "stream",
     "text": [
      "100%|██████████████████████████████████████████████████████████████████████████████████████████████████████████| 24/24 [00:00<00:00, 187.31it/s]\n",
      "100%|██████████████████████████████████████████████████████████████████████████████████████████████████████████| 24/24 [00:00<00:00, 565.74it/s]\n"
     ]
    },
    {
     "name": "stdout",
     "output_type": "stream",
     "text": [
      "Mol: 82\n"
     ]
    },
    {
     "name": "stderr",
     "output_type": "stream",
     "text": [
      "100%|████████████████████████████████████████████████████████████████████████████████████████████████████████████| 9/9 [00:00<00:00, 307.15it/s]\n",
      "100%|███████████████████████████████████████████████████████████████████████████████████████████████████████████| 9/9 [00:00<00:00, 2359.00it/s]\n"
     ]
    },
    {
     "name": "stdout",
     "output_type": "stream",
     "text": [
      "Mol: 85\n"
     ]
    },
    {
     "name": "stderr",
     "output_type": "stream",
     "text": [
      "100%|█████████████████████████████████████████████████████████████████████████████████████████████████████████████| 7/7 [00:00<00:00, 26.89it/s]\n",
      "100%|█████████████████████████████████████████████████████████████████████████████████████████████████████████████| 7/7 [00:00<00:00, 83.39it/s]\n"
     ]
    },
    {
     "name": "stdout",
     "output_type": "stream",
     "text": [
      "Mol: 86\n"
     ]
    },
    {
     "name": "stderr",
     "output_type": "stream",
     "text": [
      "100%|█████████████████████████████████████████████████████████████████████████████████████████████████████████| 18/18 [00:00<00:00, 2670.87it/s]\n",
      "100%|████████████████████████████████████████████████████████████████████████████████████████████████████████| 18/18 [00:00<00:00, 16509.40it/s]\n"
     ]
    },
    {
     "name": "stdout",
     "output_type": "stream",
     "text": [
      "Mol: 87\n"
     ]
    },
    {
     "name": "stderr",
     "output_type": "stream",
     "text": [
      "100%|█████████████████████████████████████████████████████████████████████████████████████████████████████████████| 2/2 [00:00<00:00, 96.93it/s]\n",
      "100%|████████████████████████████████████████████████████████████████████████████████████████████████████████████| 2/2 [00:00<00:00, 887.78it/s]\n"
     ]
    },
    {
     "name": "stdout",
     "output_type": "stream",
     "text": [
      "Mol: 88\n"
     ]
    },
    {
     "name": "stderr",
     "output_type": "stream",
     "text": [
      "100%|██████████████████████████████████████████████████████████████████████████████████████████████████████████| 13/13 [00:00<00:00, 281.72it/s]\n",
      "100%|█████████████████████████████████████████████████████████████████████████████████████████████████████████| 13/13 [00:00<00:00, 3838.77it/s]\n"
     ]
    },
    {
     "name": "stdout",
     "output_type": "stream",
     "text": [
      "Mol: 9\n"
     ]
    },
    {
     "name": "stderr",
     "output_type": "stream",
     "text": [
      "100%|██████████████████████████████████████████████████████████████████████████████████████████████████████████| 61/61 [00:00<00:00, 130.07it/s]\n",
      "100%|██████████████████████████████████████████████████████████████████████████████████████████████████████████| 61/61 [00:00<00:00, 187.43it/s]\n"
     ]
    },
    {
     "name": "stdout",
     "output_type": "stream",
     "text": [
      "Mol: 90\n"
     ]
    },
    {
     "name": "stderr",
     "output_type": "stream",
     "text": [
      "100%|██████████████████████████████████████████████████████████████████████████████████████████████████████████| 11/11 [00:00<00:00, 232.94it/s]\n",
      "100%|██████████████████████████████████████████████████████████████████████████████████████████████████████████| 11/11 [00:00<00:00, 775.64it/s]\n"
     ]
    },
    {
     "name": "stdout",
     "output_type": "stream",
     "text": [
      "Mol: 92\n"
     ]
    },
    {
     "name": "stderr",
     "output_type": "stream",
     "text": [
      "100%|███████████████████████████████████████████████████████████████████████████████████████████████████████████| 31/31 [00:00<00:00, 94.63it/s]\n",
      "100%|██████████████████████████████████████████████████████████████████████████████████████████████████████████| 31/31 [00:00<00:00, 288.79it/s]\n"
     ]
    },
    {
     "name": "stdout",
     "output_type": "stream",
     "text": [
      "Mol: 93\n"
     ]
    },
    {
     "name": "stderr",
     "output_type": "stream",
     "text": [
      "100%|█████████████████████████████████████████████████████████████████████████████████████████████████████████| 25/25 [00:00<00:00, 2766.55it/s]\n",
      "100%|████████████████████████████████████████████████████████████████████████████████████████████████████████| 25/25 [00:00<00:00, 14124.14it/s]\n"
     ]
    },
    {
     "name": "stdout",
     "output_type": "stream",
     "text": [
      "Mol: 94\n"
     ]
    },
    {
     "name": "stderr",
     "output_type": "stream",
     "text": [
      "100%|████████████████████████████████████████████████████████████████████████████████████████████████████████████| 4/4 [00:00<00:00, 659.14it/s]\n",
      "100%|███████████████████████████████████████████████████████████████████████████████████████████████████████████| 4/4 [00:00<00:00, 1727.47it/s]\n"
     ]
    },
    {
     "name": "stdout",
     "output_type": "stream",
     "text": [
      "Mol: 95\n"
     ]
    },
    {
     "name": "stderr",
     "output_type": "stream",
     "text": [
      "100%|██████████████████████████████████████████████████████████████████████████████████████████████████████████| 92/92 [00:00<00:00, 403.00it/s]\n",
      "100%|█████████████████████████████████████████████████████████████████████████████████████████████████████████| 92/92 [00:00<00:00, 1873.18it/s]\n"
     ]
    }
   ],
   "source": [
    "chebyshev_distr = {}\n",
    "min_max_chebyshev_distr = {}\n",
    "\n",
    "rmsd_distr = {}\n",
    "min_max_rmsd_distr = {}\n",
    "\n",
    "for filename in os.listdir('crest_res/'):\n",
    "\n",
    "    idx = int(filename.split('_')[1])\n",
    "\n",
    "    print(f\"Mol: {idx}\")\n",
    "    \n",
    "    crest_ens = Confpool()\n",
    "    crest_ens.include_from_file(f'crest_res/mol_{idx}/crest_conformers_no_h.xyz')\n",
    "    crest_ens[\"Energy\"] = lambda m: float(m.descr.strip())\n",
    "\n",
    "    crest_ens_size = len(crest_ens)\n",
    "    \n",
    "    aug_ens = Confpool()\n",
    "    aug_ens.include_from_file(f'aug_res/bocs_mol_{idx}_iv_pi_refine_final_ensemble_filtered_no_h.xyz')\n",
    "\n",
    "    aug_ens[\"Energy\"] = lambda m: float(m.descr.split()[-1])\n",
    "    aug_ens.filter(lambda x: x['Energy'] < crest_lowest_en[int(idx)] + (2 * KC2H), inplace=True)\n",
    "        \n",
    "    crest_ens.include_subset(aug_ens, range(len(aug_ens)))\n",
    "\n",
    "    crest_ens.generate_connectivity(0, mult=1.3, ignore_elements=['HCarbon'], sdf_name='connectivity_check.sdf')\n",
    "    crest_ens.generate_isomorphisms()\n",
    "        \n",
    "    cur_distr = []\n",
    "    min_max_distr = []\n",
    "    for i in tqdm(range(len(aug_ens))):\n",
    "        tmp_distr = []\n",
    "        for j in range(crest_ens_size):\n",
    "            tmp_distr.append(\n",
    "                chebyshev_dist(crest_ens[j], crest_ens[crest_ens_size + i], crest_ens.simple_reorder)\n",
    "            )\n",
    "        cur_distr.append(tmp_distr)\n",
    "        min_max_distr.append(min(tmp_distr))\n",
    "    chebyshev_distr[idx] = cur_distr\n",
    "    min_max_chebyshev_distr[idx] = max(min_max_distr)\n",
    "\n",
    "    cur_distr = []\n",
    "    min_max_distr = []\n",
    "    for i in tqdm(range(len(aug_ens))):\n",
    "        tmp_distr = []\n",
    "        for j in range(crest_ens_size):\n",
    "            tmp_distr.append(\n",
    "                crest_ens[j].rmsd(crest_ens[crest_ens_size + i])[0]\n",
    "            )\n",
    "        cur_distr.append(tmp_distr)\n",
    "        min_max_distr.append(min(tmp_distr))\n",
    "        \n",
    "    rmsd_distr[idx] = cur_distr\n",
    "    min_max_rmsd_distr[idx] = max(min_max_distr)"
   ]
  },
  {
   "cell_type": "code",
   "execution_count": 5,
   "id": "3da58ea9-d7ce-40b5-a960-c3f306c07ea5",
   "metadata": {},
   "outputs": [],
   "source": [
    "import matplotlib\n",
    "matplotlib.rcParams.update({'font.size': 12})"
   ]
  },
  {
   "cell_type": "code",
   "execution_count": 6,
   "id": "db28152a-c1fe-4488-8c4a-1a8ad0879512",
   "metadata": {},
   "outputs": [
    {
     "data": {
      "text/plain": [
       "Text(0, 0.5, 'Number of occurrences')"
      ]
     },
     "execution_count": 6,
     "metadata": {},
     "output_type": "execute_result"
    },
    {
     "data": {
      "image/png": "[encoded data removed]",
      "text/plain": [
       "<Figure size 640x480 with 2 Axes>"
      ]
     },
     "metadata": {},
     "output_type": "display_data"
    }
   ],
   "source": [
    "lm = sns.histplot(\n",
    "    [cur for cur in min_max_chebyshev_distr.values()],\n",
    "    bins=20,\n",
    "    color='lightblue'\n",
    ")\n",
    "subplot = inset_axes(\n",
    "    parent_axes=lm.axes,\n",
    "    width=\"75%\",\n",
    "    height=\"60%\",\n",
    "    borderpad=1 \n",
    ")\n",
    "sns.histplot(\n",
    "    [cur for cur in min_max_chebyshev_distr.values() if cur < 2],\n",
    "    bins=20,\n",
    "    color='lightblue',\n",
    "    ax=subplot\n",
    ")\n",
    "subplot.set_xlim(0)\n",
    "subplot.set_ylabel('')\n",
    "lm.axes.set_xlim(0)\n",
    "lm.axes.set_xlabel('Chebyshev distance, Å')\n",
    "lm.axes.set_ylabel('Number of occurrences')"
   ]
  },
  {
   "cell_type": "code",
   "execution_count": 7,
   "id": "ee2f0da1-5023-48d8-9b05-8d62abc02b80",
   "metadata": {},
   "outputs": [
    {
     "data": {
      "text/plain": [
       "Text(0, 0.5, 'Number of occurrences')"
      ]
     },
     "execution_count": 7,
     "metadata": {},
     "output_type": "execute_result"
    },
    {
     "data": {
      "image/png": "[encoded data removed]",
      "text/plain": [
       "<Figure size 640x480 with 1 Axes>"
      ]
     },
     "metadata": {},
     "output_type": "display_data"
    }
   ],
   "source": [
    "sns.histplot(\n",
    "    [cur for cur in min_max_rmsd_distr.values()],\n",
    "    bins=20,\n",
    "    color='lightblue'\n",
    ")\n",
    "plt.xlim(0)\n",
    "plt.xlabel('RMSD, Å')\n",
    "plt.ylabel('Number of occurrences')"
   ]
  },
  {
   "cell_type": "code",
   "execution_count": 8,
   "id": "2669da41-ca24-47d5-8bab-971eb3274afa",
   "metadata": {},
   "outputs": [],
   "source": [
    "number_of_missed_cheb = {\n",
    "    key : len([cur for cur in map(min, chebyshev_distr[key]) if cur > 0.55])\n",
    "    for key in chebyshev_distr\n",
    "}\n",
    "number_of_missed_rmsd = {\n",
    "    key : len([cur for cur in map(min, rmsd_distr[key]) if cur > 0.3])\n",
    "    for key in rmsd_distr\n",
    "}"
   ]
  },
  {
   "cell_type": "code",
   "execution_count": 9,
   "id": "54bdfa2b-d946-400d-8bd2-90a202b8e544",
   "metadata": {},
   "outputs": [],
   "source": [
    "en_logs = json.load(open('aug_res/augmentation_minima_en_logs.json', 'r'))\n",
    "en_logs = {int(k) : v for k, v in en_logs.items()}"
   ]
  },
  {
   "cell_type": "code",
   "execution_count": 10,
   "id": "8f07df10-e24f-4d93-894f-73378bc416b9",
   "metadata": {},
   "outputs": [],
   "source": [
    "step_of_occurrence_cheb = {}\n",
    "step_of_occurrence_rmsd = {}\n",
    "\n",
    "for key in min_max_chebyshev_distr.keys():\n",
    "    \n",
    "    p = Confpool()\n",
    "    p.include_from_file(f'aug_res/bocs_mol_{key}_iv_pi_refine_final_ensemble_filtered_no_h.xyz')\n",
    "    p['Energy'] = lambda x: float(x.descr.split()[-1])\n",
    "\n",
    "    if number_of_missed_cheb[key] == 0:\n",
    "        continue\n",
    "    \n",
    "    min_dists = list(map(min, chebyshev_distr[key]))\n",
    "    new_conformations_idxs = [cur for cur in range(len(min_dists)) if min_dists[cur] > 0.55]\n",
    "    \n",
    "    assert len(new_conformations_idxs) == number_of_missed_cheb[key]\n",
    "\n",
    "    target_energies = [p[idx]['Energy'] for idx in new_conformations_idxs]\n",
    "    \n",
    "    steps = [\n",
    "        np.argmin(np.abs(np.asarray(en_logs[key]) - target_energy)).item()\n",
    "        for target_energy in target_energies\n",
    "    ]\n",
    "\n",
    "    step_of_occurrence_cheb[key] = min(steps)\n",
    "\n",
    "    if number_of_missed_rmsd[key] == 0:\n",
    "        continue\n",
    "    \n",
    "    min_dists = list(map(min, rmsd_distr[key]))\n",
    "    new_conformations_idxs = [cur for cur in range(len(min_dists)) if min_dists[cur] > 0.3]\n",
    "\n",
    "    assert len(new_conformations_idxs) == number_of_missed_rmsd[key], (len(new_conformations_idxs), key)\n",
    "    \n",
    "    target_energies = [p[idx]['Energy'] for idx in new_conformations_idxs]\n",
    "    steps = [\n",
    "        np.argmin(np.abs(np.asarray(en_logs[key]) - target_energy)).item()\n",
    "        for target_energy in target_energies\n",
    "    ]\n",
    "\n",
    "    step_of_occurrence_rmsd[key] = min(steps)"
   ]
  },
  {
   "cell_type": "code",
   "execution_count": 11,
   "id": "a3418039-55ec-4773-8289-122cfae38a8f",
   "metadata": {},
   "outputs": [
    {
     "data": {
      "text/plain": [
       "(0.0, 100.0)"
      ]
     },
     "execution_count": 11,
     "metadata": {},
     "output_type": "execute_result"
    },
    {
     "data": {
      "image/png": "[encoded data removed]",
      "text/plain": [
       "<Figure size 750x500 with 1 Axes>"
      ]
     },
     "metadata": {},
     "output_type": "display_data"
    }
   ],
   "source": [
    "plt.figure(figsize=(7.5, 5))\n",
    "sns.histplot(\n",
    "    [cur for cur in step_of_occurrence_cheb.values()],\n",
    "    bins=20,\n",
    "    color='lightblue'\n",
    ")\n",
    "\n",
    "plt.xlabel('Step of the first occurrence of a new conformation')\n",
    "plt.ylabel('Number of molecules')\n",
    "\n",
    "plt.yticks([1, 2, 3, 4])\n",
    "plt.xticks(range(0, 101, 5))\n",
    "plt.xlim(0, 100)"
   ]
  },
  {
   "cell_type": "code",
   "execution_count": 12,
   "id": "20479c12-1c39-4b88-b86c-13a3c64e3e8d",
   "metadata": {},
   "outputs": [
    {
     "data": {
      "text/plain": [
       "(0.0, 100.0)"
      ]
     },
     "execution_count": 12,
     "metadata": {},
     "output_type": "execute_result"
    },
    {
     "data": {
      "image/png": "[encoded data removed]",
      "text/plain": [
       "<Figure size 750x500 with 1 Axes>"
      ]
     },
     "metadata": {},
     "output_type": "display_data"
    }
   ],
   "source": [
    "plt.figure(figsize=(7.5, 5))\n",
    "sns.histplot(\n",
    "    [cur for cur in step_of_occurrence_rmsd.values()],\n",
    "    bins=20,\n",
    "    color='lightblue'\n",
    ")\n",
    "\n",
    "plt.xlabel('Step of the first occurrence of a new conformation')\n",
    "plt.ylabel('Number of molecules')\n",
    "\n",
    "plt.yticks([1, 2, 3, 4])\n",
    "plt.xticks(range(0, 101, 5))\n",
    "plt.xlim(0, 100)"
   ]
  },
  {
   "cell_type": "code",
   "execution_count": 13,
   "id": "f96689b3-1b3f-4f6a-80af-3a2b13924ee0",
   "metadata": {},
   "outputs": [],
   "source": [
    "steps_to_keep = {}\n",
    "\n",
    "for idx, number_of_occ in number_of_missed_cheb.items():\n",
    "    \n",
    "    steps_to_keep[idx] = []\n",
    "\n",
    "    if number_of_occ == 0:\n",
    "        continue\n",
    "    \n",
    "    if number_of_occ == 1:\n",
    "        steps_to_keep[idx].append(None)\n",
    "        continue\n",
    "    \n",
    "    crest_ens = Confpool()\n",
    "    crest_ens.include_from_file(f'crest_res/mol_{idx}/crest_conformers_no_h.xyz')\n",
    "    crest_ens[\"Energy\"] = lambda m: float(m.descr.strip())\n",
    "\n",
    "    crest_en = min(crest_ens, key=lambda x: x['Energy'])\n",
    "\n",
    "    crest_ens_size = len(crest_ens)\n",
    "    \n",
    "    refine_ens = Confpool()\n",
    "    refine_ens.include_from_file(f'aug_res/mol_{idx}_refine_all_points_no_h.xyz')    \n",
    "\n",
    "    refine_ens[\"Energy\"] = lambda m: float(m.descr.split()[-1])\n",
    "    refine_ens.filter(lambda x: x['Energy'] < crest_lowest_en[idx] + (2 * KC2H), inplace=True)\n",
    "    missed_idxs = [tmp_idx for tmp_idx, cur in enumerate(map(min, chebyshev_distr[idx])) if cur > 0.55]\n",
    "    \n",
    "    filtered_ens = Confpool()\n",
    "    filtered_ens.include_subset(refine_ens, missed_idxs)\n",
    "    filtered_ens.generate_connectivity(0, mult=1.3, ignore_elements=['HCarbon'], sdf_name='connectivity_check.sdf')\n",
    "    filtered_ens.generate_isomorphisms()\n",
    "\n",
    "    steps_to_keep[idx] = []\n",
    "    collected_idxs = []\n",
    "\n",
    "    for step, cur_en in enumerate(en_logs[idx]):\n",
    "        for i in range(len(filtered_ens)):            \n",
    "            if np.abs(cur_en - filtered_ens[i]['Energy']) < 1e-10:\n",
    "                have_seen = False\n",
    "                for j in collected_idxs:\n",
    "                    if chebyshev_dist(filtered_ens[i], filtered_ens[j], simple_reorder=filtered_ens.simple_reorder) <= 0.55:\n",
    "                        have_seen = True\n",
    "                        break\n",
    "                if have_seen:\n",
    "                    continue\n",
    "                steps_to_keep[idx].append(step)\n",
    "                collected_idxs.append(i)\n",
    "                break"
   ]
  },
  {
   "cell_type": "code",
   "execution_count": 14,
   "id": "cb35f4de-c2fc-4601-8921-75738f80e7f5",
   "metadata": {},
   "outputs": [
    {
     "name": "stdout",
     "output_type": "stream",
     "text": [
      "Mol: 0\n"
     ]
    },
    {
     "name": "stderr",
     "output_type": "stream",
     "text": [
      "100%|██████████████████████████████████████████████████████████████████████████████████████████████████████████| 37/37 [00:00<00:00, 843.02it/s]\n"
     ]
    },
    {
     "name": "stdout",
     "output_type": "stream",
     "text": [
      "Mol: 1\n"
     ]
    },
    {
     "name": "stderr",
     "output_type": "stream",
     "text": [
      "100%|█████████████████████████████████████████████████████████████████████████████████████████████████████████| 56/56 [00:00<00:00, 2988.23it/s]"
     ]
    },
    {
     "name": "stdout",
     "output_type": "stream",
     "text": [
      "Mol: 16\n"
     ]
    },
    {
     "name": "stderr",
     "output_type": "stream",
     "text": [
      "\n",
      "100%|█████████████████████████████████████████████████████████████████████████████████████████████████████████████| 2/2 [00:00<00:00, 36.64it/s]\n"
     ]
    },
    {
     "name": "stdout",
     "output_type": "stream",
     "text": [
      "Mol: 17\n"
     ]
    },
    {
     "name": "stderr",
     "output_type": "stream",
     "text": [
      "100%|█████████████████████████████████████████████████████████████████████████████████████████████████████████████| 2/2 [00:00<00:00, 21.61it/s]\n"
     ]
    },
    {
     "name": "stdout",
     "output_type": "stream",
     "text": [
      "Mol: 18\n"
     ]
    },
    {
     "name": "stderr",
     "output_type": "stream",
     "text": [
      "100%|███████████████████████████████████████████████████████████████████████████████████████████████████████████| 39/39 [00:02<00:00, 18.01it/s]\n"
     ]
    },
    {
     "name": "stdout",
     "output_type": "stream",
     "text": [
      "Mol: 2\n"
     ]
    },
    {
     "name": "stderr",
     "output_type": "stream",
     "text": [
      "100%|██████████████████████████████████████████████████████████████████████████████████████████████████████████| 48/48 [00:00<00:00, 798.02it/s]\n"
     ]
    },
    {
     "name": "stdout",
     "output_type": "stream",
     "text": [
      "Mol: 21\n"
     ]
    },
    {
     "name": "stderr",
     "output_type": "stream",
     "text": [
      "100%|██████████████████████████████████████████████████████████████████████████████████████████████████████████| 51/51 [00:00<00:00, 107.10it/s]\n"
     ]
    },
    {
     "name": "stdout",
     "output_type": "stream",
     "text": [
      "Mol: 23\n"
     ]
    },
    {
     "name": "stderr",
     "output_type": "stream",
     "text": [
      "100%|█████████████████████████████████████████████████████████████████████████████████████████████████████████| 62/62 [00:00<00:00, 1365.53it/s]\n"
     ]
    },
    {
     "name": "stdout",
     "output_type": "stream",
     "text": [
      "Mol: 24\n"
     ]
    },
    {
     "name": "stderr",
     "output_type": "stream",
     "text": [
      "100%|█████████████████████████████████████████████████████████████████████████████████████████████████████████████| 2/2 [00:00<00:00, 30.80it/s]\n"
     ]
    },
    {
     "name": "stdout",
     "output_type": "stream",
     "text": [
      "Mol: 25\n"
     ]
    },
    {
     "name": "stderr",
     "output_type": "stream",
     "text": [
      "100%|███████████████████████████████████████████████████████████████████████████████████████████████████████████| 17/17 [00:03<00:00,  4.80it/s]\n"
     ]
    },
    {
     "name": "stdout",
     "output_type": "stream",
     "text": [
      "Mol: 26\n"
     ]
    },
    {
     "name": "stderr",
     "output_type": "stream",
     "text": [
      "100%|█████████████████████████████████████████████████████████████████████████████████████████████████████████████| 1/1 [00:00<00:00, 32.42it/s]\n"
     ]
    },
    {
     "name": "stdout",
     "output_type": "stream",
     "text": [
      "Mol: 28\n"
     ]
    },
    {
     "name": "stderr",
     "output_type": "stream",
     "text": [
      "100%|█████████████████████████████████████████████████████████████████████████████████████████████████████████| 76/76 [00:00<00:00, 1800.26it/s]\n"
     ]
    },
    {
     "name": "stdout",
     "output_type": "stream",
     "text": [
      "Mol: 30\n"
     ]
    },
    {
     "name": "stderr",
     "output_type": "stream",
     "text": [
      "100%|███████████████████████████████████████████████████████████████████████████████████████████████████████████| 30/30 [00:00<00:00, 97.79it/s]\n"
     ]
    },
    {
     "name": "stdout",
     "output_type": "stream",
     "text": [
      "Mol: 31\n"
     ]
    },
    {
     "name": "stderr",
     "output_type": "stream",
     "text": [
      "100%|███████████████████████████████████████████████████████████████████████████████████████████████████████████| 49/49 [00:01<00:00, 34.31it/s]\n"
     ]
    },
    {
     "name": "stdout",
     "output_type": "stream",
     "text": [
      "Mol: 32\n"
     ]
    },
    {
     "name": "stderr",
     "output_type": "stream",
     "text": [
      "100%|████████████████████████████████████████████████████████████████████████████████████████████████████████| 100/100 [00:00<00:00, 220.58it/s]\n"
     ]
    },
    {
     "name": "stdout",
     "output_type": "stream",
     "text": [
      "Mol: 34\n"
     ]
    },
    {
     "name": "stderr",
     "output_type": "stream",
     "text": [
      "100%|████████████████████████████████████████████████████████████████████████████████████████████████████████████| 4/4 [00:00<00:00, 412.15it/s]\n"
     ]
    },
    {
     "name": "stdout",
     "output_type": "stream",
     "text": [
      "Mol: 35\n"
     ]
    },
    {
     "name": "stderr",
     "output_type": "stream",
     "text": [
      "100%|██████████████████████████████████████████████████████████████████████████████████████████████████████████| 89/89 [00:00<00:00, 209.88it/s]\n"
     ]
    },
    {
     "name": "stdout",
     "output_type": "stream",
     "text": [
      "Mol: 38\n"
     ]
    },
    {
     "name": "stderr",
     "output_type": "stream",
     "text": [
      "100%|█████████████████████████████████████████████████████████████████████████████████████████████████████████| 99/99 [00:00<00:00, 1513.45it/s]\n"
     ]
    },
    {
     "name": "stdout",
     "output_type": "stream",
     "text": [
      "Mol: 40\n"
     ]
    },
    {
     "name": "stderr",
     "output_type": "stream",
     "text": [
      "100%|█████████████████████████████████████████████████████████████████████████████████████████████████████████| 77/77 [00:00<00:00, 1314.93it/s]\n"
     ]
    },
    {
     "name": "stdout",
     "output_type": "stream",
     "text": [
      "Mol: 42\n"
     ]
    },
    {
     "name": "stderr",
     "output_type": "stream",
     "text": [
      "100%|███████████████████████████████████████████████████████████████████████████████████████████████████████████| 16/16 [00:00<00:00, 40.47it/s]\n"
     ]
    },
    {
     "name": "stdout",
     "output_type": "stream",
     "text": [
      "Mol: 43\n"
     ]
    },
    {
     "name": "stderr",
     "output_type": "stream",
     "text": [
      "100%|█████████████████████████████████████████████████████████████████████████████████████████████████████████| 99/99 [00:00<00:00, 2207.52it/s]\n"
     ]
    },
    {
     "name": "stdout",
     "output_type": "stream",
     "text": [
      "Mol: 45\n"
     ]
    },
    {
     "name": "stderr",
     "output_type": "stream",
     "text": [
      "100%|█████████████████████████████████████████████████████████████████████████████████████████████████████████| 99/99 [00:00<00:00, 1655.42it/s]\n"
     ]
    },
    {
     "name": "stdout",
     "output_type": "stream",
     "text": [
      "Mol: 47\n"
     ]
    },
    {
     "name": "stderr",
     "output_type": "stream",
     "text": [
      "100%|█████████████████████████████████████████████████████████████████████████████████████████████████████████| 85/85 [00:00<00:00, 1583.61it/s]\n"
     ]
    },
    {
     "name": "stdout",
     "output_type": "stream",
     "text": [
      "Mol: 48\n"
     ]
    },
    {
     "name": "stderr",
     "output_type": "stream",
     "text": [
      "100%|██████████████████████████████████████████████████████████████████████████████████████████████████████████| 57/57 [00:00<00:00, 757.84it/s]\n"
     ]
    },
    {
     "name": "stdout",
     "output_type": "stream",
     "text": [
      "Mol: 49\n"
     ]
    },
    {
     "name": "stderr",
     "output_type": "stream",
     "text": [
      "100%|█████████████████████████████████████████████████████████████████████████████████████████████████████████████| 2/2 [00:00<00:00, 43.72it/s]\n"
     ]
    },
    {
     "name": "stdout",
     "output_type": "stream",
     "text": [
      "Mol: 50\n"
     ]
    },
    {
     "name": "stderr",
     "output_type": "stream",
     "text": [
      "100%|██████████████████████████████████████████████████████████████████████████████████████████████████████████| 69/69 [00:00<00:00, 243.51it/s]\n"
     ]
    },
    {
     "name": "stdout",
     "output_type": "stream",
     "text": [
      "Mol: 51\n"
     ]
    },
    {
     "name": "stderr",
     "output_type": "stream",
     "text": [
      "100%|███████████████████████████████████████████████████████████████████████████████████████████████████████| 100/100 [00:00<00:00, 1165.02it/s]\n"
     ]
    },
    {
     "name": "stdout",
     "output_type": "stream",
     "text": [
      "Mol: 55\n"
     ]
    },
    {
     "name": "stderr",
     "output_type": "stream",
     "text": [
      "100%|███████████████████████████████████████████████████████████████████████████████████████████████████████████| 21/21 [00:00<00:00, 63.94it/s]\n"
     ]
    },
    {
     "name": "stdout",
     "output_type": "stream",
     "text": [
      "Mol: 56\n"
     ]
    },
    {
     "name": "stderr",
     "output_type": "stream",
     "text": [
      "100%|█████████████████████████████████████████████████████████████████████████████████████████████████████████████| 3/3 [00:00<00:00, 42.79it/s]\n"
     ]
    },
    {
     "name": "stdout",
     "output_type": "stream",
     "text": [
      "Mol: 57\n"
     ]
    },
    {
     "name": "stderr",
     "output_type": "stream",
     "text": [
      "100%|██████████████████████████████████████████████████████████████████████████████████████████████████████████| 12/12 [00:00<00:00, 262.29it/s]\n"
     ]
    },
    {
     "name": "stdout",
     "output_type": "stream",
     "text": [
      "Mol: 58\n"
     ]
    },
    {
     "name": "stderr",
     "output_type": "stream",
     "text": [
      "100%|███████████████████████████████████████████████████████████████████████████████████████████████████████████| 13/13 [00:00<00:00, 40.14it/s]\n"
     ]
    },
    {
     "name": "stdout",
     "output_type": "stream",
     "text": [
      "Mol: 59\n"
     ]
    },
    {
     "name": "stderr",
     "output_type": "stream",
     "text": [
      "100%|███████████████████████████████████████████████████████████████████████████████████████████████████████████| 50/50 [00:02<00:00, 22.76it/s]\n"
     ]
    },
    {
     "name": "stdout",
     "output_type": "stream",
     "text": [
      "Mol: 6\n"
     ]
    },
    {
     "name": "stderr",
     "output_type": "stream",
     "text": [
      "100%|███████████████████████████████████████████████████████████████████████████████████████████████████████████| 52/52 [00:01<00:00, 29.31it/s]\n"
     ]
    },
    {
     "name": "stdout",
     "output_type": "stream",
     "text": [
      "Mol: 60\n"
     ]
    },
    {
     "name": "stderr",
     "output_type": "stream",
     "text": [
      "100%|█████████████████████████████████████████████████████████████████████████████████████████████████████████████| 2/2 [00:00<00:00, 90.27it/s]\n"
     ]
    },
    {
     "name": "stdout",
     "output_type": "stream",
     "text": [
      "Mol: 64\n"
     ]
    },
    {
     "name": "stderr",
     "output_type": "stream",
     "text": [
      "100%|███████████████████████████████████████████████████████████████████████████████████████████████████████████| 44/44 [00:00<00:00, 57.81it/s]\n"
     ]
    },
    {
     "name": "stdout",
     "output_type": "stream",
     "text": [
      "Mol: 65\n"
     ]
    },
    {
     "name": "stderr",
     "output_type": "stream",
     "text": [
      "100%|███████████████████████████████████████████████████████████████████████████████████████████████████████████| 13/13 [00:01<00:00, 11.96it/s]\n"
     ]
    },
    {
     "name": "stdout",
     "output_type": "stream",
     "text": [
      "Mol: 66\n"
     ]
    },
    {
     "name": "stderr",
     "output_type": "stream",
     "text": [
      "100%|████████████████████████████████████████████████████████████████████████████████████████████████████████| 50/50 [00:00<00:00, 10275.12it/s]\n"
     ]
    },
    {
     "name": "stdout",
     "output_type": "stream",
     "text": [
      "Mol: 67\n"
     ]
    },
    {
     "name": "stderr",
     "output_type": "stream",
     "text": [
      "100%|█████████████████████████████████████████████████████████████████████████████████████████████████████████████| 9/9 [00:00<00:00, 24.42it/s]\n"
     ]
    },
    {
     "name": "stdout",
     "output_type": "stream",
     "text": [
      "Mol: 69\n"
     ]
    },
    {
     "name": "stderr",
     "output_type": "stream",
     "text": [
      "100%|█████████████████████████████████████████████████████████████████████████████████████████████████████████████| 1/1 [00:00<00:00, 14.79it/s]\n"
     ]
    },
    {
     "name": "stdout",
     "output_type": "stream",
     "text": [
      "Mol: 70\n"
     ]
    },
    {
     "name": "stderr",
     "output_type": "stream",
     "text": [
      "100%|██████████████████████████████████████████████████████████████████████████████████████████████████████████| 46/46 [00:00<00:00, 513.37it/s]\n"
     ]
    },
    {
     "name": "stdout",
     "output_type": "stream",
     "text": [
      "Mol: 71\n"
     ]
    },
    {
     "name": "stderr",
     "output_type": "stream",
     "text": [
      "100%|█████████████████████████████████████████████████████████████████████████████████████████████████████████| 95/95 [00:00<00:00, 3664.26it/s]\n"
     ]
    },
    {
     "name": "stdout",
     "output_type": "stream",
     "text": [
      "Mol: 72\n"
     ]
    },
    {
     "name": "stderr",
     "output_type": "stream",
     "text": [
      "100%|█████████████████████████████████████████████████████████████████████████████████████████████████████████| 96/96 [00:00<00:00, 2181.48it/s]\n"
     ]
    },
    {
     "name": "stdout",
     "output_type": "stream",
     "text": [
      "Mol: 74\n"
     ]
    },
    {
     "name": "stderr",
     "output_type": "stream",
     "text": [
      "100%|█████████████████████████████████████████████████████████████████████████████████████████████████████████████| 3/3 [00:00<00:00, 52.32it/s]\n"
     ]
    },
    {
     "name": "stdout",
     "output_type": "stream",
     "text": [
      "Mol: 76\n"
     ]
    },
    {
     "name": "stderr",
     "output_type": "stream",
     "text": [
      "100%|██████████████████████████████████████████████████████████████████████████████████████████████████████████| 55/55 [00:00<00:00, 268.71it/s]\n"
     ]
    },
    {
     "name": "stdout",
     "output_type": "stream",
     "text": [
      "Mol: 77\n"
     ]
    },
    {
     "name": "stderr",
     "output_type": "stream",
     "text": [
      "100%|█████████████████████████████████████████████████████████████████████████████████████████████████████████████| 2/2 [00:00<00:00, 19.21it/s]\n"
     ]
    },
    {
     "name": "stdout",
     "output_type": "stream",
     "text": [
      "Mol: 79\n"
     ]
    },
    {
     "name": "stderr",
     "output_type": "stream",
     "text": [
      "100%|██████████████████████████████████████████████████████████████████████████████████████████████████████████| 34/34 [00:00<00:00, 245.37it/s]\n"
     ]
    },
    {
     "name": "stdout",
     "output_type": "stream",
     "text": [
      "Mol: 8\n"
     ]
    },
    {
     "name": "stderr",
     "output_type": "stream",
     "text": [
      "100%|█████████████████████████████████████████████████████████████████████████████████████████████████████████████| 6/6 [00:00<00:00, 34.12it/s]\n"
     ]
    },
    {
     "name": "stdout",
     "output_type": "stream",
     "text": [
      "Mol: 80\n"
     ]
    },
    {
     "name": "stderr",
     "output_type": "stream",
     "text": [
      "100%|███████████████████████████████████████████████████████████████████████████████████████████████████████████| 69/69 [00:01<00:00, 65.22it/s]\n"
     ]
    },
    {
     "name": "stdout",
     "output_type": "stream",
     "text": [
      "Mol: 81\n"
     ]
    },
    {
     "name": "stderr",
     "output_type": "stream",
     "text": [
      "100%|██████████████████████████████████████████████████████████████████████████████████████████████████████████| 81/81 [00:00<00:00, 116.60it/s]\n"
     ]
    },
    {
     "name": "stdout",
     "output_type": "stream",
     "text": [
      "Mol: 82\n"
     ]
    },
    {
     "name": "stderr",
     "output_type": "stream",
     "text": [
      "100%|██████████████████████████████████████████████████████████████████████████████████████████████████████████| 11/11 [00:00<00:00, 312.68it/s]\n"
     ]
    },
    {
     "name": "stdout",
     "output_type": "stream",
     "text": [
      "Mol: 85\n"
     ]
    },
    {
     "name": "stderr",
     "output_type": "stream",
     "text": [
      "100%|█████████████████████████████████████████████████████████████████████████████████████████████████████████████| 9/9 [00:00<00:00, 29.46it/s]\n"
     ]
    },
    {
     "name": "stdout",
     "output_type": "stream",
     "text": [
      "Mol: 86\n"
     ]
    },
    {
     "name": "stderr",
     "output_type": "stream",
     "text": [
      "100%|███████████████████████████████████████████████████████████████████████████████████████████████████████| 100/100 [00:00<00:00, 3194.66it/s]\n"
     ]
    },
    {
     "name": "stdout",
     "output_type": "stream",
     "text": [
      "Mol: 87\n"
     ]
    },
    {
     "name": "stderr",
     "output_type": "stream",
     "text": [
      "100%|████████████████████████████████████████████████████████████████████████████████████████████████████████████| 2/2 [00:00<00:00, 101.79it/s]\n"
     ]
    },
    {
     "name": "stdout",
     "output_type": "stream",
     "text": [
      "Mol: 88\n"
     ]
    },
    {
     "name": "stderr",
     "output_type": "stream",
     "text": [
      "100%|██████████████████████████████████████████████████████████████████████████████████████████████████████████| 18/18 [00:00<00:00, 429.06it/s]\n"
     ]
    },
    {
     "name": "stdout",
     "output_type": "stream",
     "text": [
      "Mol: 9\n"
     ]
    },
    {
     "name": "stderr",
     "output_type": "stream",
     "text": [
      "100%|██████████████████████████████████████████████████████████████████████████████████████████████████████████| 70/70 [00:00<00:00, 146.82it/s]\n"
     ]
    },
    {
     "name": "stdout",
     "output_type": "stream",
     "text": [
      "Mol: 90\n"
     ]
    },
    {
     "name": "stderr",
     "output_type": "stream",
     "text": [
      "100%|██████████████████████████████████████████████████████████████████████████████████████████████████████████| 14/14 [00:00<00:00, 325.99it/s]\n"
     ]
    },
    {
     "name": "stdout",
     "output_type": "stream",
     "text": [
      "Mol: 92\n"
     ]
    },
    {
     "name": "stderr",
     "output_type": "stream",
     "text": [
      "100%|███████████████████████████████████████████████████████████████████████████████████████████████████████████| 41/41 [00:00<00:00, 71.89it/s]\n"
     ]
    },
    {
     "name": "stdout",
     "output_type": "stream",
     "text": [
      "Mol: 93\n"
     ]
    },
    {
     "name": "stderr",
     "output_type": "stream",
     "text": [
      "100%|█████████████████████████████████████████████████████████████████████████████████████████████████████████| 97/97 [00:00<00:00, 2662.14it/s]\n"
     ]
    },
    {
     "name": "stdout",
     "output_type": "stream",
     "text": [
      "Mol: 94\n"
     ]
    },
    {
     "name": "stderr",
     "output_type": "stream",
     "text": [
      "100%|█████████████████████████████████████████████████████████████████████████████████████████████████████████| 96/96 [00:00<00:00, 1126.35it/s]\n"
     ]
    },
    {
     "name": "stdout",
     "output_type": "stream",
     "text": [
      "Mol: 95\n"
     ]
    },
    {
     "name": "stderr",
     "output_type": "stream",
     "text": [
      "100%|██████████████████████████████████████████████████████████████████████████████████████████████████████████| 93/93 [00:00<00:00, 714.81it/s]\n"
     ]
    }
   ],
   "source": [
    "chebyshev_distr_all = {}\n",
    "\n",
    "for filename in os.listdir('crest_res/'):\n",
    "\n",
    "    idx = int(filename.split('_')[1])\n",
    "\n",
    "    print(f\"Mol: {idx}\")\n",
    "    \n",
    "    crest_ens = Confpool()\n",
    "    crest_ens.include_from_file(f'crest_res/mol_{idx}/crest_conformers_no_h.xyz')\n",
    "    crest_ens[\"Energy\"] = lambda m: float(m.descr.strip())\n",
    "\n",
    "    crest_ens_size = len(crest_ens)\n",
    "    \n",
    "    aug_ens = Confpool()\n",
    "    aug_ens.include_from_file(f'aug_res/mol_{idx}_refine_all_points_no_h.xyz')\n",
    "\n",
    "    aug_ens[\"Energy\"] = lambda m: float(m.descr.split()[-1])\n",
    "    aug_ens.filter(lambda x: x['Energy'] < crest_lowest_en[int(idx)] + (2 * KC2H), inplace=True)\n",
    "        \n",
    "    crest_ens.include_subset(aug_ens, range(len(aug_ens)))\n",
    "\n",
    "    crest_ens.generate_connectivity(0, mult=1.3, ignore_elements=['HCarbon'], sdf_name='connectivity_check.sdf')\n",
    "    crest_ens.generate_isomorphisms()\n",
    "        \n",
    "    cur_distr = []\n",
    "    for i in tqdm(range(len(aug_ens))):\n",
    "        tmp_distr = []\n",
    "        for j in range(crest_ens_size):\n",
    "            tmp_distr.append(\n",
    "                chebyshev_dist(crest_ens[j], crest_ens[crest_ens_size + i], crest_ens.simple_reorder)\n",
    "            )\n",
    "        cur_distr.append(tmp_distr)\n",
    "    chebyshev_distr_all[idx] = cur_distr"
   ]
  },
  {
   "cell_type": "code",
   "execution_count": 15,
   "id": "2b211756-aef0-4825-9ed6-f3c12ec2a2a0",
   "metadata": {},
   "outputs": [],
   "source": [
    "number_of_missed_cheb_all = {\n",
    "    key : len([cur for cur in map(min, chebyshev_distr_all[key]) if cur > 0.55])\n",
    "    for key in chebyshev_distr\n",
    "}"
   ]
  },
  {
   "cell_type": "code",
   "execution_count": 16,
   "id": "f388e2c5-94d4-4ef1-b910-f39f7cfd011f",
   "metadata": {},
   "outputs": [],
   "source": [
    "steps_to_keep_all = {}\n",
    "\n",
    "for idx, number_of_occ in number_of_missed_cheb_all.items():\n",
    "    \n",
    "    steps_to_keep_all[idx] = []\n",
    "\n",
    "    if number_of_occ == 0:\n",
    "        continue\n",
    "    \n",
    "    if number_of_occ == 1:\n",
    "        steps_to_keep[idx].append(None)\n",
    "        continue\n",
    "    \n",
    "    crest_ens = Confpool()\n",
    "    crest_ens.include_from_file(f'crest_res/mol_{idx}/crest_conformers_no_h.xyz')\n",
    "    crest_ens[\"Energy\"] = lambda m: float(m.descr.strip())\n",
    "\n",
    "    crest_en = min(crest_ens, key=lambda x: x['Energy'])\n",
    "\n",
    "    crest_ens_size = len(crest_ens)\n",
    "    \n",
    "    refine_ens = Confpool()\n",
    "    refine_ens.include_from_file(f'aug_res/mol_{idx}_refine_all_points_no_h.xyz')    \n",
    "\n",
    "    refine_ens[\"Energy\"] = lambda m: float(m.descr.split()[-1])\n",
    "    refine_ens.filter(lambda x: x['Energy'] < crest_lowest_en[idx] + (2 * KC2H), inplace=True)\n",
    "    missed_idxs = [tmp_idx for tmp_idx, cur in enumerate(map(min, chebyshev_distr_all[idx])) if cur > 0.55]\n",
    "    \n",
    "    filtered_ens = Confpool()\n",
    "    filtered_ens.include_subset(refine_ens, missed_idxs)\n",
    "    filtered_ens.generate_connectivity(0, mult=1.3, ignore_elements=['HCarbon'], sdf_name='connectivity_check.sdf')\n",
    "    filtered_ens.generate_isomorphisms()\n",
    "\n",
    "    steps_to_keep_all[idx] = []\n",
    "    collected_idxs = []\n",
    "\n",
    "    for step, cur_en in enumerate(en_logs[idx]):\n",
    "        for i in range(len(filtered_ens)):            \n",
    "            if np.abs(cur_en - filtered_ens[i]['Energy']) < 1e-10:\n",
    "                have_seen = False\n",
    "                for j in collected_idxs:\n",
    "                    if chebyshev_dist(filtered_ens[i], filtered_ens[j], simple_reorder=filtered_ens.simple_reorder) <= 0.55:\n",
    "                        have_seen = True\n",
    "                        break\n",
    "                if have_seen:\n",
    "                    continue\n",
    "                steps_to_keep_all[idx].append(step)\n",
    "                collected_idxs.append(i)\n",
    "                break"
   ]
  },
  {
   "cell_type": "code",
   "execution_count": 17,
   "id": "249fec2b-f202-4850-b140-f23c2c63c54a",
   "metadata": {},
   "outputs": [],
   "source": [
    "diffs = []\n",
    "\n",
    "for idx in steps_to_keep.keys():\n",
    "    p = Confpool()\n",
    "    p.include_from_file(f'aug_res/bocs_mol_{idx}_iv_pi_refine_final_ensemble_filtered_no_h.xyz')\n",
    "    p['Energy'] = lambda x: float(x.descr.split()[-1])\n",
    "\n",
    "    diffs.append((min(p, key=lambda x: x['Energy'])['Energy'] - crest_lowest_en[idx]) / KC2H)"
   ]
  },
  {
   "cell_type": "code",
   "execution_count": 18,
   "id": "046b04ce-8579-4b2e-822a-95c7cbfb0727",
   "metadata": {},
   "outputs": [
    {
     "data": {
      "text/plain": [
       "Text(0, 0.5, '$E_{min}^{aug} - E_{min}^{CREST}$, kcal/mol')"
      ]
     },
     "execution_count": 18,
     "metadata": {},
     "output_type": "execute_result"
    },
    {
     "data": {
      "image/png": "[encoded data removed]",
      "text/plain": [
       "<Figure size 640x480 with 1 Axes>"
      ]
     },
     "metadata": {},
     "output_type": "display_data"
    }
   ],
   "source": [
    "plt.scatter(\n",
    "    [len(steps_to_keep[idx]) for idx in steps_to_keep.keys()],\n",
    "    diffs,\n",
    "    alpha=0.7,\n",
    "    color='#984ea3'\n",
    ")\n",
    "plt.xlabel('Number of missed conformations')\n",
    "plt.ylabel('$E_{min}^{aug} - E_{min}^{CREST}$, kcal/mol')"
   ]
  },
  {
   "cell_type": "code",
   "execution_count": 20,
   "id": "aedb928d-bd88-48ce-83a7-704a5bd74795",
   "metadata": {},
   "outputs": [
    {
     "data": {
      "image/png": "[encoded data removed]",
      "text/plain": [
       "<Figure size 640x480 with 1 Axes>"
      ]
     },
     "metadata": {},
     "output_type": "display_data"
    },
    {
     "data": {
      "image/png": "[encoded data removed]",
      "text/plain": [
       "<Figure size 640x480 with 1 Axes>"
      ]
     },
     "metadata": {},
     "output_type": "display_data"
    },
    {
     "data": {
      "image/png": "[encoded data removed]",
      "text/plain": [
       "<Figure size 640x480 with 1 Axes>"
      ]
     },
     "metadata": {},
     "output_type": "display_data"
    }
   ],
   "source": [
    "for cur in [1, 6, 35]:\n",
    "    \n",
    "    ens = np.asarray(en_logs[cur])\n",
    "    ens -= crest_lowest_en[cur]\n",
    "    ens /= KC2H\n",
    "\n",
    "    plt.plot(ens, color='#984ea3')\n",
    "\n",
    "    for step in steps_to_keep_all[cur]:\n",
    "        p = Confpool()\n",
    "        p.include_from_file(f'aug_res/mol_{cur}_refine_all_points_no_h.xyz')\n",
    "        if cur == 35:\n",
    "            z_conf = np.abs(p[step].z(10, 9, 8, 6)) < 30\n",
    "        if cur == 6:\n",
    "            z_conf = np.abs(p[step].z(3, 10, 2, 11)) < 30\n",
    "        if cur == 1:\n",
    "            z_conf = np.abs(p[step].z(18, 13, 12, 17)) < 30\n",
    "        \n",
    "        plt.scatter(\n",
    "            x=step,\n",
    "            y=ens[step],\n",
    "            marker='*',\n",
    "            c='#ff7f00' if z_conf else '#4daf4a',\n",
    "        )\n",
    "\n",
    "    cis =  mlines.Line2D([], [], color='#ff7f00', marker='*', linestyle='None',\n",
    "                          markersize=10, label=r'Z conformation of amide bond')\n",
    "    trans =  mlines.Line2D([], [], color='#4daf4a', marker='*', linestyle='None',\n",
    "                          markersize=10, label=r'E conformation of amide bond')\n",
    "    \n",
    "    plt.ylim(-2, 2)\n",
    "    plt.xlim(0, 100)\n",
    "    plt.xlabel('Step of augmentation')\n",
    "    plt.ylabel('Relative energy, kcal/mol')\n",
    "    plt.legend(handles=[cis, trans], title='Conformations missed by CREST')\n",
    "    plt.show()"
   ]
  }
 ],
 "metadata": {
  "kernelspec": {
   "display_name": "Python 3 (ipykernel)",
   "language": "python",
   "name": "python3"
  },
  "language_info": {
   "codemirror_mode": {
    "name": "ipython",
    "version": 3
   },
   "file_extension": ".py",
   "mimetype": "text/x-python",
   "name": "python",
   "nbconvert_exporter": "python",
   "pygments_lexer": "ipython3",
   "version": "3.11.0"
  }
 },
 "nbformat": 4,
 "nbformat_minor": 5
}
